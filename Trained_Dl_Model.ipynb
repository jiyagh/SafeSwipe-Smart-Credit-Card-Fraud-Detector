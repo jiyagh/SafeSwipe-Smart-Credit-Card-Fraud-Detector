{
  "nbformat": 4,
  "nbformat_minor": 0,
  "metadata": {
    "colab": {
      "provenance": []
    },
    "kernelspec": {
      "name": "python3",
      "display_name": "Python 3"
    },
    "language_info": {
      "name": "python"
    }
  },
  "cells": [
    {
      "cell_type": "code",
      "execution_count": 2,
      "metadata": {
        "id": "bfd3klpE96fM"
      },
      "outputs": [],
      "source": [
        "import pandas as pd\n",
        "import numpy as np\n",
        "import joblib\n",
        "from sklearn.model_selection import train_test_split\n",
        "from sklearn.preprocessing import StandardScaler\n",
        "from BalanceDataset import balancedWithRandomOverSampler\n",
        "from tensorflow.keras.models import Sequential\n",
        "from tensorflow.keras.layers import Dense, Conv1D, MaxPooling1D, LSTM, Flatten, Dropout, Reshape\n",
        "from tensorflow.keras.metrics import Precision, Recall, AUC\n",
        "from tensorflow.keras.callbacks import EarlyStopping"
      ]
    },
    {
      "cell_type": "code",
      "source": [
        "df = pd.read_csv(\"cleaned_dataset_dl.csv\")\n",
        "X = df.drop(\"Class\", axis=1)\n",
        "y = df[\"Class\"]"
      ],
      "metadata": {
        "id": "KAyjz17_-Oo-"
      },
      "execution_count": 3,
      "outputs": []
    },
    {
      "cell_type": "code",
      "source": [
        "df_cleaned = df.dropna(subset=['Class'])\n",
        "X = df_cleaned.drop(\"Class\", axis=1)\n",
        "y = df_cleaned[\"Class\"]\n",
        "\n",
        "\n",
        "X_train, X_test, y_train, y_test = train_test_split(X, y, stratify=y, random_state=42)"
      ],
      "metadata": {
        "id": "JLB-reRN-Trz"
      },
      "execution_count": 5,
      "outputs": []
    },
    {
      "cell_type": "code",
      "source": [
        "scaler = StandardScaler()\n",
        "X_train_scaled = scaler.fit_transform(X_train)\n",
        "X_test_scaled = scaler.transform(X_test)\n"
      ],
      "metadata": {
        "id": "dRII90gZ-ggu"
      },
      "execution_count": 6,
      "outputs": []
    },
    {
      "cell_type": "code",
      "source": [
        "X_train_bal, y_train_bal = balancedWithRandomOverSampler(X_train_scaled, y_train)\n"
      ],
      "metadata": {
        "colab": {
          "base_uri": "https://localhost:8080/"
        },
        "id": "ygHECt-j-i7a",
        "outputId": "2a249ae3-f467-4b74-b9e6-000704320299"
      },
      "execution_count": 7,
      "outputs": [
        {
          "output_type": "stream",
          "name": "stdout",
          "text": [
            "Non-Frauds: 16562 / 50.0 % of the dataset\n",
            "Frauds: 16562 / 50.0 % of the dataset\n"
          ]
        }
      ]
    },
    {
      "cell_type": "code",
      "source": [
        "X_train_reshaped = X_train_bal.reshape(X_train_bal.shape[0], X_train_bal.shape[1], 1)\n",
        "X_test_reshaped = X_test_scaled.reshape(X_test_scaled.shape[0], X_test_scaled.shape[1], 1)\n"
      ],
      "metadata": {
        "id": "ric7a3lZ-mGF"
      },
      "execution_count": 8,
      "outputs": []
    },
    {
      "cell_type": "code",
      "source": [
        "model = Sequential()\n",
        "model.add(Conv1D(32, kernel_size=3, activation='relu', input_shape=(X_train_reshaped.shape[1], 1)))\n",
        "model.add(MaxPooling1D(pool_size=2))\n",
        "model.add(Dropout(0.2))\n",
        "model.add(LSTM(64, activation='relu', return_sequences=False))\n",
        "model.add(Dropout(0.2))\n",
        "model.add(Dense(1, activation='sigmoid'))"
      ],
      "metadata": {
        "colab": {
          "base_uri": "https://localhost:8080/"
        },
        "id": "7wtYqqNc-os7",
        "outputId": "ab001e04-ed4a-4c2e-ea36-729e5b6923cb"
      },
      "execution_count": 9,
      "outputs": [
        {
          "output_type": "stream",
          "name": "stderr",
          "text": [
            "/usr/local/lib/python3.11/dist-packages/keras/src/layers/convolutional/base_conv.py:107: UserWarning: Do not pass an `input_shape`/`input_dim` argument to a layer. When using Sequential models, prefer using an `Input(shape)` object as the first layer in the model instead.\n",
            "  super().__init__(activity_regularizer=activity_regularizer, **kwargs)\n"
          ]
        }
      ]
    },
    {
      "cell_type": "code",
      "source": [
        "model.compile(optimizer='adam', loss='binary_crossentropy', metrics=[Precision(), Recall(), AUC()])\n"
      ],
      "metadata": {
        "id": "5MJ0xxvR-r33"
      },
      "execution_count": 10,
      "outputs": []
    },
    {
      "cell_type": "code",
      "source": [
        "es = EarlyStopping(patience=3, restore_best_weights=True)\n",
        "history = model.fit(X_train_reshaped, y_train_bal, validation_split=0.2,\n",
        "                    epochs=20, batch_size=128, callbacks=[es], shuffle=True)\n"
      ],
      "metadata": {
        "colab": {
          "base_uri": "https://localhost:8080/"
        },
        "id": "wWX1OaCp-u4w",
        "outputId": "51134037-2a2a-4cbf-dcd0-6d29e9699f12"
      },
      "execution_count": 11,
      "outputs": [
        {
          "output_type": "stream",
          "name": "stdout",
          "text": [
            "Epoch 1/20\n",
            "\u001b[1m208/208\u001b[0m \u001b[32m━━━━━━━━━━━━━━━━━━━━\u001b[0m\u001b[37m\u001b[0m \u001b[1m9s\u001b[0m 26ms/step - auc: 0.8818 - loss: 0.4062 - precision: 0.7063 - recall: 0.8129 - val_auc: 0.0000e+00 - val_loss: 0.0099 - val_precision: 1.0000 - val_recall: 1.0000\n",
            "Epoch 2/20\n",
            "\u001b[1m208/208\u001b[0m \u001b[32m━━━━━━━━━━━━━━━━━━━━\u001b[0m\u001b[37m\u001b[0m \u001b[1m9s\u001b[0m 22ms/step - auc: 0.9973 - loss: 0.0594 - precision: 0.9700 - recall: 0.9753 - val_auc: 0.0000e+00 - val_loss: 9.0777e-04 - val_precision: 1.0000 - val_recall: 1.0000\n",
            "Epoch 3/20\n",
            "\u001b[1m208/208\u001b[0m \u001b[32m━━━━━━━━━━━━━━━━━━━━\u001b[0m\u001b[37m\u001b[0m \u001b[1m6s\u001b[0m 28ms/step - auc: 0.9992 - loss: 0.0184 - precision: 0.9927 - recall: 0.9961 - val_auc: 0.0000e+00 - val_loss: 1.0306e-04 - val_precision: 1.0000 - val_recall: 1.0000\n",
            "Epoch 4/20\n",
            "\u001b[1m208/208\u001b[0m \u001b[32m━━━━━━━━━━━━━━━━━━━━\u001b[0m\u001b[37m\u001b[0m \u001b[1m14s\u001b[0m 45ms/step - auc: 0.9999 - loss: 0.0090 - precision: 0.9957 - recall: 0.9970 - val_auc: 0.0000e+00 - val_loss: 0.0013 - val_precision: 1.0000 - val_recall: 1.0000\n",
            "Epoch 5/20\n",
            "\u001b[1m208/208\u001b[0m \u001b[32m━━━━━━━━━━━━━━━━━━━━\u001b[0m\u001b[37m\u001b[0m \u001b[1m5s\u001b[0m 24ms/step - auc: 0.9994 - loss: 0.0157 - precision: 0.9940 - recall: 0.9947 - val_auc: 0.0000e+00 - val_loss: 4.5411e-04 - val_precision: 1.0000 - val_recall: 1.0000\n",
            "Epoch 6/20\n",
            "\u001b[1m208/208\u001b[0m \u001b[32m━━━━━━━━━━━━━━━━━━━━\u001b[0m\u001b[37m\u001b[0m \u001b[1m6s\u001b[0m 28ms/step - auc: 0.9998 - loss: 0.0059 - precision: 0.9973 - recall: 0.9988 - val_auc: 0.0000e+00 - val_loss: 1.1808e-06 - val_precision: 1.0000 - val_recall: 1.0000\n",
            "Epoch 7/20\n",
            "\u001b[1m208/208\u001b[0m \u001b[32m━━━━━━━━━━━━━━━━━━━━\u001b[0m\u001b[37m\u001b[0m \u001b[1m5s\u001b[0m 23ms/step - auc: 0.9998 - loss: 0.0091 - precision: 0.9966 - recall: 0.9983 - val_auc: 0.0000e+00 - val_loss: 7.5095e-07 - val_precision: 1.0000 - val_recall: 1.0000\n",
            "Epoch 8/20\n",
            "\u001b[1m208/208\u001b[0m \u001b[32m━━━━━━━━━━━━━━━━━━━━\u001b[0m\u001b[37m\u001b[0m \u001b[1m5s\u001b[0m 23ms/step - auc: 0.9998 - loss: 0.0052 - precision: 0.9975 - recall: 0.9993 - val_auc: 0.0000e+00 - val_loss: 1.2658e-04 - val_precision: 1.0000 - val_recall: 1.0000\n",
            "Epoch 9/20\n",
            "\u001b[1m208/208\u001b[0m \u001b[32m━━━━━━━━━━━━━━━━━━━━\u001b[0m\u001b[37m\u001b[0m \u001b[1m6s\u001b[0m 29ms/step - auc: 0.9999 - loss: 0.0038 - precision: 0.9982 - recall: 0.9987 - val_auc: 0.0000e+00 - val_loss: 1.6325e-05 - val_precision: 1.0000 - val_recall: 1.0000\n",
            "Epoch 10/20\n",
            "\u001b[1m208/208\u001b[0m \u001b[32m━━━━━━━━━━━━━━━━━━━━\u001b[0m\u001b[37m\u001b[0m \u001b[1m10s\u001b[0m 29ms/step - auc: 1.0000 - loss: 0.0033 - precision: 0.9971 - recall: 0.9996 - val_auc: 0.0000e+00 - val_loss: 1.9047e-04 - val_precision: 1.0000 - val_recall: 1.0000\n"
          ]
        }
      ]
    },
    {
      "cell_type": "code",
      "source": [
        "loss, precision, recall, auc = model.evaluate(X_test_reshaped, y_test)\n",
        "f1 = 2 * (precision * recall) / (precision + recall)\n",
        "print(\"📊 Final Scores:\")\n",
        "print(f\"Precision: {precision:.4f} | Recall: {recall:.4f} | F1: {f1:.4f} | AUC: {auc:.4f}\")\n"
      ],
      "metadata": {
        "colab": {
          "base_uri": "https://localhost:8080/"
        },
        "id": "Iu0WJf9m_SSH",
        "outputId": "5a2a41c0-707b-4d64-e6a2-bfccdffa7a67"
      },
      "execution_count": 12,
      "outputs": [
        {
          "output_type": "stream",
          "name": "stdout",
          "text": [
            "\u001b[1m173/173\u001b[0m \u001b[32m━━━━━━━━━━━━━━━━━━━━\u001b[0m\u001b[37m\u001b[0m \u001b[1m1s\u001b[0m 5ms/step - auc: 0.7228 - loss: 0.0105 - precision: 0.1263 - recall: 0.6314\n",
            "📊 Final Scores:\n",
            "Precision: 0.2222 | Recall: 0.8571 | F1: 0.3529 | AUC: 0.9980\n"
          ]
        }
      ]
    },
    {
      "cell_type": "code",
      "source": [
        "model.save(\"fraud_model.h5\")\n",
        "joblib.dump(scaler, \"scaler.pkl\")\n"
      ],
      "metadata": {
        "colab": {
          "base_uri": "https://localhost:8080/"
        },
        "id": "azNUhobb_Xrk",
        "outputId": "93c6cf3b-dafd-4a93-86b1-d4bda311be36"
      },
      "execution_count": 13,
      "outputs": [
        {
          "output_type": "stream",
          "name": "stderr",
          "text": [
            "WARNING:absl:You are saving your model as an HDF5 file via `model.save()` or `keras.saving.save_model(model)`. This file format is considered legacy. We recommend using instead the native Keras format, e.g. `model.save('my_model.keras')` or `keras.saving.save_model(model, 'my_model.keras')`. \n"
          ]
        },
        {
          "output_type": "execute_result",
          "data": {
            "text/plain": [
              "['scaler.pkl']"
            ]
          },
          "metadata": {},
          "execution_count": 13
        }
      ]
    }
  ]
}