{
  "nbformat": 4,
  "nbformat_minor": 0,
  "metadata": {
    "colab": {
      "provenance": []
    },
    "kernelspec": {
      "name": "python3",
      "display_name": "Python 3"
    },
    "language_info": {
      "name": "python"
    }
  },
  "cells": [
    {
      "cell_type": "code",
      "execution_count": 3,
      "metadata": {
        "id": "lJ052RJRTTBq"
      },
      "outputs": [],
      "source": [
        "import pandas as pd\n",
        "import numpy as np\n",
        "import matplotlib.pyplot as plt\n",
        "import seaborn as sns\n",
        "from sklearn.model_selection import train_test_split\n",
        "from sklearn.preprocessing import StandardScaler\n",
        "import warnings\n",
        "warnings.filterwarnings(\"ignore\")\n",
        "\n",
        "# Custom imports\n",
        "from BalanceDataset import *\n",
        "from MachineLearningModels import model_performance, display_all_confusion_matrices, all_performances\n",
        "\n",
        "# ML models\n",
        "from sklearn.linear_model import LogisticRegression\n",
        "from sklearn.tree import DecisionTreeClassifier\n",
        "from sklearn.ensemble import RandomForestClassifier\n",
        "from sklearn.neighbors import KNeighborsClassifier\n"
      ]
    },
    {
      "cell_type": "code",
      "source": [
        "df = pd.read_csv(\"creditcard.csv\")\n",
        "\n",
        "if 'Time' in df.columns:\n",
        "    df.drop('Time', axis=1, inplace=True)\n"
      ],
      "metadata": {
        "id": "0SDvvCOvT6HP"
      },
      "execution_count": 4,
      "outputs": []
    },
    {
      "cell_type": "code",
      "source": [
        "from sklearn.ensemble import IsolationForest\n",
        "clf = IsolationForest(contamination=0.01, random_state=42)\n",
        "outlier_mask = clf.fit_predict(df.drop(\"Class\", axis=1)) != -1\n",
        "df_cleaned = df[outlier_mask]"
      ],
      "metadata": {
        "id": "sLV7yKEjT9f4"
      },
      "execution_count": 5,
      "outputs": []
    },
    {
      "cell_type": "code",
      "source": [
        "corr_matrix = df_cleaned.corr()\n",
        "upper = corr_matrix.where(np.triu(np.ones(corr_matrix.shape), k=1).astype(bool))\n",
        "to_drop = [col for col in upper.columns if any(upper[col].abs() > 0.95)]\n",
        "df_selected = df_cleaned.drop(to_drop, axis=1)"
      ],
      "metadata": {
        "id": "SmLYx8A8UBNZ"
      },
      "execution_count": 6,
      "outputs": []
    },
    {
      "cell_type": "code",
      "source": [
        "X = df_selected.drop(\"Class\", axis=1)\n",
        "y = df_selected[\"Class\"]\n",
        "\n",
        "X_train, X_test, y_train, y_test = train_test_split(X, y, stratify=y, random_state=42, test_size=0.2)\n",
        "\n",
        "scaler = StandardScaler()\n",
        "X_train_scaled = scaler.fit_transform(X_train)\n",
        "X_test_scaled = scaler.transform(X_test)"
      ],
      "metadata": {
        "id": "nmKU6mDwUEwv"
      },
      "execution_count": 7,
      "outputs": []
    },
    {
      "cell_type": "code",
      "source": [
        "X_train_bal, y_train_bal = balancedWithRandomOverSampler(X_train_scaled, y_train)\n"
      ],
      "metadata": {
        "colab": {
          "base_uri": "https://localhost:8080/"
        },
        "id": "6iz-cs9dUF87",
        "outputId": "3965d5a0-6704-4ec7-f3bf-27f8af1c9574"
      },
      "execution_count": 8,
      "outputs": [
        {
          "output_type": "stream",
          "name": "stdout",
          "text": [
            "Non-Frauds: 225405 / 50.0 % of the dataset\n",
            "Frauds: 225405 / 50.0 % of the dataset\n"
          ]
        }
      ]
    },
    {
      "cell_type": "code",
      "source": [
        "# Assuming these imports are already present in your MachineLearningModels.py\n",
        "import pandas as pd\n",
        "import numpy as np\n",
        "from sklearn.metrics import precision_score, recall_score, f1_score, roc_auc_score, confusion_matrix\n",
        "from sklearn.model_selection import cross_val_score\n",
        "\n",
        "# Initialize an empty list to store model information (if not already initialized)\n",
        "model_list = []\n",
        "# Initialize an empty DataFrame to store performance metrics (if not already initialized)\n",
        "all_performances = pd.DataFrame(columns=[\"model_name\",\"precision\", \"recall\", \"f1_score\", \"AUC\"])\n",
        "\n",
        "\n",
        "def add_list(name, model, y_pred):\n",
        "    \"\"\"\n",
        "    Adds model information to a global list.\n",
        "    \"\"\"\n",
        "    model_list.append((name, model, y_pred))\n",
        "\n",
        "\n",
        "def add_all_performances(name, precision, recall, f1_score, AUC):\n",
        "    \"\"\"\n",
        "    Adds performance metrics for a model to the global all_performances DataFrame.\n",
        "    \"\"\"\n",
        "    global all_performances  # Declare all_performances as global to modify it\n",
        "    models = pd.DataFrame([[name, precision, recall, f1_score, AUC]],\n",
        "                         columns=[\"model_name\",\"precision\", \"recall\", \"f1_score\", \"AUC\"])\n",
        "    # Replace .append() with pd.concat()\n",
        "    all_performances = pd.concat([all_performances, models], ignore_index=True)\n",
        "    all_performances = all_performances.drop_duplicates()\n",
        "    #print(all_performances.sort_values(by=['f1_score'], ascending=False))\n",
        "\n",
        "\n",
        "def calculate_scores(X_train, X_test, y_train, y_test, y_pred, name, model):\n",
        "    \"\"\"\n",
        "    Calculates various performance scores for a model.\n",
        "    \"\"\"\n",
        "    precision = precision_score(y_test, y_pred)\n",
        "    recall = recall_score(y_test, y_pred)\n",
        "    f1_score = f1_score(y_test, y_pred)\n",
        "    AUC = roc_auc_score(y_test, y_pred)\n",
        "\n",
        "    # cross_val = cross_val_score(model, X_train, y_train, cv=5, scoring='roc_auc').mean()\n",
        "\n",
        "    # print(f'Precision: {precision:.2f}')\n",
        "    # print(f'Recall: {recall:.2f}')\n",
        "    # print(f'F1 Score: {f1_score:.2f}')\n",
        "    # print(f'AUC: {AUC:.2f}')\n",
        "    # print(f'Cross Validation AUC: {cross_val:.2f}')\n",
        "\n",
        "    add_list(name, model, y_pred)\n",
        "    add_all_performances(name, precision, recall, f1_score, AUC)\n",
        "    #print(all_performances.sort_values(by=['f1_score'], ascending=False))\n",
        "\n",
        "\n",
        "def model_performance(model, X_train, X_test, y_train, y_test, technique_name):\n",
        "    \"\"\"\n",
        "    Trains a model, makes predictions, and calculates performance scores.\n",
        "    \"\"\"\n",
        "    name = model.__class__.__name__ + \"_\" + technique_name\n",
        "    print(\"***** \"+ name +\" STARTING *****\")\n",
        "    model.fit(X_train, y_train)\n",
        "    y_pred = model.predict(X_test)\n",
        "    print(\"***** \"+ name +\" DONE *****\")\n",
        "\n",
        "    calculate_scores(X_train, X_test, y_train, y_test, y_pred, name, model)\n",
        "\n",
        "\n",
        "def display_all_confusion_matrices(X_test, y_test):\n",
        "    \"\"\"\n",
        "    Displays confusion matrices for all models in the model_list.\n",
        "    \"\"\"\n",
        "    for name, model, y_pred in model_list:\n",
        "        cm = confusion_matrix(y_test, y_pred)\n",
        "        plt.figure(figsize=(4, 3))\n",
        "        sns.heatmap(cm, annot=True, fmt='d', cmap='Blues')\n",
        "        plt.title(f'Confusion Matrix for {name}')\n",
        "        plt.xlabel('Predicted')\n",
        "        plt.ylabel('Actual')\n",
        "        plt.show()"
      ],
      "metadata": {
        "id": "qGpkOcnpUm8C"
      },
      "execution_count": 14,
      "outputs": []
    },
    {
      "cell_type": "code",
      "source": [
        "# Assuming these imports are already present in your MachineLearningModels.py\n",
        "import pandas as pd\n",
        "import numpy as np\n",
        "from sklearn.metrics import precision_score, recall_score, f1_score, roc_auc_score, confusion_matrix\n",
        "from sklearn.model_selection import cross_val_score\n",
        "\n",
        "# Initialize an empty list to store model information (if not already initialized)\n",
        "model_list = []\n",
        "# Initialize an empty DataFrame to store performance metrics (if not already initialized)\n",
        "all_performances = pd.DataFrame(columns=[\"model_name\",\"precision\", \"recall\", \"f1_score\", \"AUC\"])\n",
        "\n",
        "\n",
        "def add_list(name, model, y_pred):\n",
        "    \"\"\"\n",
        "    Adds model information to a global list.\n",
        "    \"\"\"\n",
        "    model_list.append((name, model, y_pred))\n",
        "\n",
        "\n",
        "# Renamed the parameter from f1_score to f1 to avoid conflict\n",
        "def add_all_performances(name, precision, recall, f1, AUC):\n",
        "    \"\"\"\n",
        "    Adds performance metrics for a model to the global all_performances DataFrame.\n",
        "    \"\"\"\n",
        "    global all_performances  # Declare all_performances as global to modify it\n",
        "    # Use the renamed parameter f1 here\n",
        "    models = pd.DataFrame([[name, precision, recall, f1, AUC]],\n",
        "                         columns=[\"model_name\",\"precision\", \"recall\", \"f1_score\", \"AUC\"])\n",
        "    # Replace .append() with pd.concat()\n",
        "    all_performances = pd.concat([all_performances, models], ignore_index=True)\n",
        "    all_performances = all_performances.drop_duplicates()\n",
        "    #print(all_performances.sort_values(by=['f1_score'], ascending=False))\n",
        "\n",
        "\n",
        "# Renamed the parameter from f1_score to f1 to avoid conflict\n",
        "def calculate_scores(X_train, X_test, y_train, y_test, y_pred, name, model):\n",
        "    \"\"\"\n",
        "    Calculates various performance scores for a model.\n",
        "    \"\"\"\n",
        "    precision = precision_score(y_test, y_pred)\n",
        "    recall = recall_score(y_test, y_pred)\n",
        "    # Call the imported f1_score function and assign to a local variable\n",
        "    f1 = f1_score(y_test, y_pred)\n",
        "    AUC = roc_auc_score(y_test, y_pred)\n",
        "\n",
        "    # cross_val = cross_val_score(model, X_train, y_train, cv=5, scoring='roc_auc').mean()\n",
        "\n",
        "    # print(f'Precision: {precision:.2f}')\n",
        "    # print(f'Recall: {recall:.2f}')\n",
        "    # print(f'F1 Score: {f1:.2f}')\n",
        "    # print(f'AUC: {AUC:.2f}')\n",
        "    # print(f'Cross Validation AUC: {cross_val:.2f}')\n",
        "\n",
        "    add_list(name, model, y_pred)\n",
        "    # Pass the calculated f1 score (local variable) to add_all_performances\n",
        "    add_all_performances(name, precision, recall, f1, AUC)\n",
        "    #print(all_performances.sort_values(by=['f1_score'], ascending=False))\n",
        "\n",
        "\n",
        "def model_performance(model, X_train, X_test, y_train, y_test, technique_name):\n",
        "    \"\"\"\n",
        "    Trains a model, makes predictions, and calculates performance scores.\n",
        "    \"\"\"\n",
        "    name = model.__class__.__name__ + \"_\" + technique_name\n",
        "    print(\"***** \"+ name +\" STARTING *****\")\n",
        "    model.fit(X_train, y_train)\n",
        "    y_pred = model.predict(X_test)\n",
        "    print(\"***** \"+ name +\" DONE *****\")\n",
        "\n",
        "    calculate_scores(X_train, X_test, y_train, y_test, y_pred, name, model)\n",
        "\n",
        "\n",
        "def display_all_confusion_matrices(X_test, y_test):\n",
        "    \"\"\"\n",
        "    Displays confusion matrices for all models in the model_list.\n",
        "    \"\"\"\n",
        "    for name, model, y_pred in model_list:\n",
        "        cm = confusion_matrix(y_test, y_pred)\n",
        "        plt.figure(figsize=(4, 3))\n",
        "        sns.heatmap(cm, annot=True, fmt='d', cmap='Blues')\n",
        "        plt.title(f'Confusion Matrix for {name}')\n",
        "        plt.xlabel('Predicted')\n",
        "        plt.ylabel('Actual')\n",
        "        plt.show()"
      ],
      "metadata": {
        "id": "cpocaxzrVB2J"
      },
      "execution_count": 15,
      "outputs": []
    },
    {
      "cell_type": "code",
      "source": [
        "model_performance(LogisticRegression(), X_train_bal, X_test_scaled, y_train_bal, y_test, \"LogReg\")\n",
        "model_performance(DecisionTreeClassifier(), X_train_bal, X_test_scaled, y_train_bal, y_test, \"DecisionTree\")\n",
        "model_performance(RandomForestClassifier(), X_train_bal, X_test_scaled, y_train_bal, y_test, \"RandomForest\")\n",
        "model_performance(KNeighborsClassifier(), X_train_bal, X_test_scaled, y_train_bal, y_test, \"KNN\")\n"
      ],
      "metadata": {
        "colab": {
          "base_uri": "https://localhost:8080/"
        },
        "id": "uBwAHFemUJeC",
        "outputId": "78032563-f079-41ee-d745-60e5d9f4ddea"
      },
      "execution_count": 16,
      "outputs": [
        {
          "output_type": "stream",
          "name": "stdout",
          "text": [
            "***** LogisticRegression_LogReg STARTING *****\n",
            "***** LogisticRegression_LogReg DONE *****\n",
            "***** DecisionTreeClassifier_DecisionTree STARTING *****\n",
            "***** DecisionTreeClassifier_DecisionTree DONE *****\n",
            "***** RandomForestClassifier_RandomForest STARTING *****\n",
            "***** RandomForestClassifier_RandomForest DONE *****\n",
            "***** KNeighborsClassifier_KNN STARTING *****\n",
            "***** KNeighborsClassifier_KNN DONE *****\n"
          ]
        }
      ]
    },
    {
      "cell_type": "code",
      "source": [
        "all_performances.sort_values(by=\"f1_score\", ascending=False).reset_index(drop=True)\n"
      ],
      "metadata": {
        "colab": {
          "base_uri": "https://localhost:8080/",
          "height": 195
        },
        "id": "EZnYu0C4W3mL",
        "outputId": "018966d1-a5e1-4459-b816-371f06209d1e"
      },
      "execution_count": 17,
      "outputs": [
        {
          "output_type": "execute_result",
          "data": {
            "text/plain": [
              "                            model_name  precision  recall  f1_score       AUC\n",
              "0  RandomForestClassifier_RandomForest   0.888889   0.400  0.551724  0.699982\n",
              "1  DecisionTreeClassifier_DecisionTree   0.558824   0.475  0.513514  0.737367\n",
              "2             KNeighborsClassifier_KNN   0.440000   0.550  0.488889  0.774752\n",
              "3            LogisticRegression_LogReg   0.009406   0.800  0.018594  0.870099"
            ],
            "text/html": [
              "\n",
              "  <div id=\"df-1ba2f487-141f-4a54-9efd-cff087c8d538\" class=\"colab-df-container\">\n",
              "    <div>\n",
              "<style scoped>\n",
              "    .dataframe tbody tr th:only-of-type {\n",
              "        vertical-align: middle;\n",
              "    }\n",
              "\n",
              "    .dataframe tbody tr th {\n",
              "        vertical-align: top;\n",
              "    }\n",
              "\n",
              "    .dataframe thead th {\n",
              "        text-align: right;\n",
              "    }\n",
              "</style>\n",
              "<table border=\"1\" class=\"dataframe\">\n",
              "  <thead>\n",
              "    <tr style=\"text-align: right;\">\n",
              "      <th></th>\n",
              "      <th>model_name</th>\n",
              "      <th>precision</th>\n",
              "      <th>recall</th>\n",
              "      <th>f1_score</th>\n",
              "      <th>AUC</th>\n",
              "    </tr>\n",
              "  </thead>\n",
              "  <tbody>\n",
              "    <tr>\n",
              "      <th>0</th>\n",
              "      <td>RandomForestClassifier_RandomForest</td>\n",
              "      <td>0.888889</td>\n",
              "      <td>0.400</td>\n",
              "      <td>0.551724</td>\n",
              "      <td>0.699982</td>\n",
              "    </tr>\n",
              "    <tr>\n",
              "      <th>1</th>\n",
              "      <td>DecisionTreeClassifier_DecisionTree</td>\n",
              "      <td>0.558824</td>\n",
              "      <td>0.475</td>\n",
              "      <td>0.513514</td>\n",
              "      <td>0.737367</td>\n",
              "    </tr>\n",
              "    <tr>\n",
              "      <th>2</th>\n",
              "      <td>KNeighborsClassifier_KNN</td>\n",
              "      <td>0.440000</td>\n",
              "      <td>0.550</td>\n",
              "      <td>0.488889</td>\n",
              "      <td>0.774752</td>\n",
              "    </tr>\n",
              "    <tr>\n",
              "      <th>3</th>\n",
              "      <td>LogisticRegression_LogReg</td>\n",
              "      <td>0.009406</td>\n",
              "      <td>0.800</td>\n",
              "      <td>0.018594</td>\n",
              "      <td>0.870099</td>\n",
              "    </tr>\n",
              "  </tbody>\n",
              "</table>\n",
              "</div>\n",
              "    <div class=\"colab-df-buttons\">\n",
              "\n",
              "  <div class=\"colab-df-container\">\n",
              "    <button class=\"colab-df-convert\" onclick=\"convertToInteractive('df-1ba2f487-141f-4a54-9efd-cff087c8d538')\"\n",
              "            title=\"Convert this dataframe to an interactive table.\"\n",
              "            style=\"display:none;\">\n",
              "\n",
              "  <svg xmlns=\"http://www.w3.org/2000/svg\" height=\"24px\" viewBox=\"0 -960 960 960\">\n",
              "    <path d=\"M120-120v-720h720v720H120Zm60-500h600v-160H180v160Zm220 220h160v-160H400v160Zm0 220h160v-160H400v160ZM180-400h160v-160H180v160Zm440 0h160v-160H620v160ZM180-180h160v-160H180v160Zm440 0h160v-160H620v160Z\"/>\n",
              "  </svg>\n",
              "    </button>\n",
              "\n",
              "  <style>\n",
              "    .colab-df-container {\n",
              "      display:flex;\n",
              "      gap: 12px;\n",
              "    }\n",
              "\n",
              "    .colab-df-convert {\n",
              "      background-color: #E8F0FE;\n",
              "      border: none;\n",
              "      border-radius: 50%;\n",
              "      cursor: pointer;\n",
              "      display: none;\n",
              "      fill: #1967D2;\n",
              "      height: 32px;\n",
              "      padding: 0 0 0 0;\n",
              "      width: 32px;\n",
              "    }\n",
              "\n",
              "    .colab-df-convert:hover {\n",
              "      background-color: #E2EBFA;\n",
              "      box-shadow: 0px 1px 2px rgba(60, 64, 67, 0.3), 0px 1px 3px 1px rgba(60, 64, 67, 0.15);\n",
              "      fill: #174EA6;\n",
              "    }\n",
              "\n",
              "    .colab-df-buttons div {\n",
              "      margin-bottom: 4px;\n",
              "    }\n",
              "\n",
              "    [theme=dark] .colab-df-convert {\n",
              "      background-color: #3B4455;\n",
              "      fill: #D2E3FC;\n",
              "    }\n",
              "\n",
              "    [theme=dark] .colab-df-convert:hover {\n",
              "      background-color: #434B5C;\n",
              "      box-shadow: 0px 1px 3px 1px rgba(0, 0, 0, 0.15);\n",
              "      filter: drop-shadow(0px 1px 2px rgba(0, 0, 0, 0.3));\n",
              "      fill: #FFFFFF;\n",
              "    }\n",
              "  </style>\n",
              "\n",
              "    <script>\n",
              "      const buttonEl =\n",
              "        document.querySelector('#df-1ba2f487-141f-4a54-9efd-cff087c8d538 button.colab-df-convert');\n",
              "      buttonEl.style.display =\n",
              "        google.colab.kernel.accessAllowed ? 'block' : 'none';\n",
              "\n",
              "      async function convertToInteractive(key) {\n",
              "        const element = document.querySelector('#df-1ba2f487-141f-4a54-9efd-cff087c8d538');\n",
              "        const dataTable =\n",
              "          await google.colab.kernel.invokeFunction('convertToInteractive',\n",
              "                                                    [key], {});\n",
              "        if (!dataTable) return;\n",
              "\n",
              "        const docLinkHtml = 'Like what you see? Visit the ' +\n",
              "          '<a target=\"_blank\" href=https://colab.research.google.com/notebooks/data_table.ipynb>data table notebook</a>'\n",
              "          + ' to learn more about interactive tables.';\n",
              "        element.innerHTML = '';\n",
              "        dataTable['output_type'] = 'display_data';\n",
              "        await google.colab.output.renderOutput(dataTable, element);\n",
              "        const docLink = document.createElement('div');\n",
              "        docLink.innerHTML = docLinkHtml;\n",
              "        element.appendChild(docLink);\n",
              "      }\n",
              "    </script>\n",
              "  </div>\n",
              "\n",
              "\n",
              "    <div id=\"df-c0552044-fc19-4a85-b214-8740236c7a07\">\n",
              "      <button class=\"colab-df-quickchart\" onclick=\"quickchart('df-c0552044-fc19-4a85-b214-8740236c7a07')\"\n",
              "                title=\"Suggest charts\"\n",
              "                style=\"display:none;\">\n",
              "\n",
              "<svg xmlns=\"http://www.w3.org/2000/svg\" height=\"24px\"viewBox=\"0 0 24 24\"\n",
              "     width=\"24px\">\n",
              "    <g>\n",
              "        <path d=\"M19 3H5c-1.1 0-2 .9-2 2v14c0 1.1.9 2 2 2h14c1.1 0 2-.9 2-2V5c0-1.1-.9-2-2-2zM9 17H7v-7h2v7zm4 0h-2V7h2v10zm4 0h-2v-4h2v4z\"/>\n",
              "    </g>\n",
              "</svg>\n",
              "      </button>\n",
              "\n",
              "<style>\n",
              "  .colab-df-quickchart {\n",
              "      --bg-color: #E8F0FE;\n",
              "      --fill-color: #1967D2;\n",
              "      --hover-bg-color: #E2EBFA;\n",
              "      --hover-fill-color: #174EA6;\n",
              "      --disabled-fill-color: #AAA;\n",
              "      --disabled-bg-color: #DDD;\n",
              "  }\n",
              "\n",
              "  [theme=dark] .colab-df-quickchart {\n",
              "      --bg-color: #3B4455;\n",
              "      --fill-color: #D2E3FC;\n",
              "      --hover-bg-color: #434B5C;\n",
              "      --hover-fill-color: #FFFFFF;\n",
              "      --disabled-bg-color: #3B4455;\n",
              "      --disabled-fill-color: #666;\n",
              "  }\n",
              "\n",
              "  .colab-df-quickchart {\n",
              "    background-color: var(--bg-color);\n",
              "    border: none;\n",
              "    border-radius: 50%;\n",
              "    cursor: pointer;\n",
              "    display: none;\n",
              "    fill: var(--fill-color);\n",
              "    height: 32px;\n",
              "    padding: 0;\n",
              "    width: 32px;\n",
              "  }\n",
              "\n",
              "  .colab-df-quickchart:hover {\n",
              "    background-color: var(--hover-bg-color);\n",
              "    box-shadow: 0 1px 2px rgba(60, 64, 67, 0.3), 0 1px 3px 1px rgba(60, 64, 67, 0.15);\n",
              "    fill: var(--button-hover-fill-color);\n",
              "  }\n",
              "\n",
              "  .colab-df-quickchart-complete:disabled,\n",
              "  .colab-df-quickchart-complete:disabled:hover {\n",
              "    background-color: var(--disabled-bg-color);\n",
              "    fill: var(--disabled-fill-color);\n",
              "    box-shadow: none;\n",
              "  }\n",
              "\n",
              "  .colab-df-spinner {\n",
              "    border: 2px solid var(--fill-color);\n",
              "    border-color: transparent;\n",
              "    border-bottom-color: var(--fill-color);\n",
              "    animation:\n",
              "      spin 1s steps(1) infinite;\n",
              "  }\n",
              "\n",
              "  @keyframes spin {\n",
              "    0% {\n",
              "      border-color: transparent;\n",
              "      border-bottom-color: var(--fill-color);\n",
              "      border-left-color: var(--fill-color);\n",
              "    }\n",
              "    20% {\n",
              "      border-color: transparent;\n",
              "      border-left-color: var(--fill-color);\n",
              "      border-top-color: var(--fill-color);\n",
              "    }\n",
              "    30% {\n",
              "      border-color: transparent;\n",
              "      border-left-color: var(--fill-color);\n",
              "      border-top-color: var(--fill-color);\n",
              "      border-right-color: var(--fill-color);\n",
              "    }\n",
              "    40% {\n",
              "      border-color: transparent;\n",
              "      border-right-color: var(--fill-color);\n",
              "      border-top-color: var(--fill-color);\n",
              "    }\n",
              "    60% {\n",
              "      border-color: transparent;\n",
              "      border-right-color: var(--fill-color);\n",
              "    }\n",
              "    80% {\n",
              "      border-color: transparent;\n",
              "      border-right-color: var(--fill-color);\n",
              "      border-bottom-color: var(--fill-color);\n",
              "    }\n",
              "    90% {\n",
              "      border-color: transparent;\n",
              "      border-bottom-color: var(--fill-color);\n",
              "    }\n",
              "  }\n",
              "</style>\n",
              "\n",
              "      <script>\n",
              "        async function quickchart(key) {\n",
              "          const quickchartButtonEl =\n",
              "            document.querySelector('#' + key + ' button');\n",
              "          quickchartButtonEl.disabled = true;  // To prevent multiple clicks.\n",
              "          quickchartButtonEl.classList.add('colab-df-spinner');\n",
              "          try {\n",
              "            const charts = await google.colab.kernel.invokeFunction(\n",
              "                'suggestCharts', [key], {});\n",
              "          } catch (error) {\n",
              "            console.error('Error during call to suggestCharts:', error);\n",
              "          }\n",
              "          quickchartButtonEl.classList.remove('colab-df-spinner');\n",
              "          quickchartButtonEl.classList.add('colab-df-quickchart-complete');\n",
              "        }\n",
              "        (() => {\n",
              "          let quickchartButtonEl =\n",
              "            document.querySelector('#df-c0552044-fc19-4a85-b214-8740236c7a07 button');\n",
              "          quickchartButtonEl.style.display =\n",
              "            google.colab.kernel.accessAllowed ? 'block' : 'none';\n",
              "        })();\n",
              "      </script>\n",
              "    </div>\n",
              "\n",
              "    </div>\n",
              "  </div>\n"
            ],
            "application/vnd.google.colaboratory.intrinsic+json": {
              "type": "dataframe",
              "summary": "{\n  \"name\": \"all_performances\",\n  \"rows\": 4,\n  \"fields\": [\n    {\n      \"column\": \"model_name\",\n      \"properties\": {\n        \"dtype\": \"string\",\n        \"num_unique_values\": 4,\n        \"samples\": [\n          \"DecisionTreeClassifier_DecisionTree\",\n          \"LogisticRegression_LogReg\",\n          \"RandomForestClassifier_RandomForest\"\n        ],\n        \"semantic_type\": \"\",\n        \"description\": \"\"\n      }\n    },\n    {\n      \"column\": \"precision\",\n      \"properties\": {\n        \"dtype\": \"number\",\n        \"std\": 0.3634697960998425,\n        \"min\": 0.00940623162845385,\n        \"max\": 0.8888888888888888,\n        \"num_unique_values\": 4,\n        \"samples\": [\n          0.5588235294117647,\n          0.00940623162845385,\n          0.8888888888888888\n        ],\n        \"semantic_type\": \"\",\n        \"description\": \"\"\n      }\n    },\n    {\n      \"column\": \"recall\",\n      \"properties\": {\n        \"dtype\": \"number\",\n        \"std\": 0.17365554986812257,\n        \"min\": 0.4,\n        \"max\": 0.8,\n        \"num_unique_values\": 4,\n        \"samples\": [\n          0.475,\n          0.8,\n          0.4\n        ],\n        \"semantic_type\": \"\",\n        \"description\": \"\"\n      }\n    },\n    {\n      \"column\": \"f1_score\",\n      \"properties\": {\n        \"dtype\": \"number\",\n        \"std\": 0.2510586785531968,\n        \"min\": 0.018593840790238233,\n        \"max\": 0.5517241379310345,\n        \"num_unique_values\": 4,\n        \"samples\": [\n          0.5135135135135135,\n          0.018593840790238233,\n          0.5517241379310345\n        ],\n        \"semantic_type\": \"\",\n        \"description\": \"\"\n      }\n    },\n    {\n      \"column\": \"AUC\",\n      \"properties\": {\n        \"dtype\": \"number\",\n        \"std\": 0.07304910275983606,\n        \"min\": 0.6999822544009086,\n        \"max\": 0.8700986655309484,\n        \"num_unique_values\": 4,\n        \"samples\": [\n          0.7373669080068144,\n          0.8700986655309484,\n          0.6999822544009086\n        ],\n        \"semantic_type\": \"\",\n        \"description\": \"\"\n      }\n    }\n  ]\n}"
            }
          },
          "metadata": {},
          "execution_count": 17
        }
      ]
    },
    {
      "cell_type": "code",
      "source": [
        "display_all_confusion_matrices(X_test_scaled, y_test)"
      ],
      "metadata": {
        "colab": {
          "base_uri": "https://localhost:8080/",
          "height": 1000
        },
        "id": "Vw-QJb08W9Df",
        "outputId": "6c39085b-4e96-4b34-eb74-8964bf1769cd"
      },
      "execution_count": 19,
      "outputs": [
        {
          "output_type": "display_data",
          "data": {
            "text/plain": [
              "<Figure size 400x300 with 2 Axes>"
            ],
            "image/png": "[encoded data removed]"
          },
          "metadata": {}
        },
        {
          "output_type": "display_data",
          "data": {
            "text/plain": [
              "<Figure size 400x300 with 2 Axes>"
            ],
            "image/png": "[encoded data removed]"
          },
          "metadata": {}
        },
        {
          "output_type": "display_data",
          "data": {
            "text/plain": [
              "<Figure size 400x300 with 2 Axes>"
            ],
            "image/png": "[encoded data removed]"
          },
          "metadata": {}
        },
        {
          "output_type": "display_data",
          "data": {
            "text/plain": [
              "<Figure size 400x300 with 2 Axes>"
            ],
            "image/png": "[encoded data removed]"
          },
          "metadata": {}
        }
      ]
    },
    {
      "cell_type": "code",
      "source": [
        "# Save cleaned dataset and scaler for ML\n",
        "df_selected.to_csv(\"cleaned_dataset_ml.csv\", index=False)\n",
        "joblib.dump(scaler, \"scaler_ml.pkl\")\n"
      ],
      "metadata": {
        "colab": {
          "base_uri": "https://localhost:8080/"
        },
        "id": "7e9ttTQYXLfM",
        "outputId": "d8be0a38-da52-4527-9a20-6ddfe348bbf9"
      },
      "execution_count": 21,
      "outputs": [
        {
          "output_type": "execute_result",
          "data": {
            "text/plain": [
              "['scaler_ml.pkl']"
            ]
          },
          "metadata": {},
          "execution_count": 21
        }
      ]
    }
  ]
}